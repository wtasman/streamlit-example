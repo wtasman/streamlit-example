{
  "nbformat": 4,
  "nbformat_minor": 0,
  "metadata": {
    "colab": {
      "provenance": [],
      "authorship_tag": "ABX9TyM2oc32lnoAheHpF3X3W5Nd",
      "include_colab_link": true
    },
    "kernelspec": {
      "name": "python3",
      "display_name": "Python 3"
    },
    "language_info": {
      "name": "python"
    }
  },
  "cells": [
    {
      "cell_type": "markdown",
      "metadata": {
        "id": "view-in-github",
        "colab_type": "text"
      },
      "source": [
        "<a href=\"https://colab.research.google.com/github/wtasman/streamlit-example/blob/master/langchain_agent_00.ipynb\" target=\"_parent\"><img src=\"https://colab.research.google.com/assets/colab-badge.svg\" alt=\"Open In Colab\"/></a>"
      ]
    },
    {
      "cell_type": "markdown",
      "source": [
        "A web app to interact with openai"
      ],
      "metadata": {
        "id": "OlRWm1ysDMQp"
      }
    },
    {
      "cell_type": "code",
      "source": [
        "pip install openai"
      ],
      "metadata": {
        "id": "oWBQU4s3FhPM"
      },
      "execution_count": null,
      "outputs": []
    },
    {
      "cell_type": "code",
      "source": [
        "pip install streamlit"
      ],
      "metadata": {
        "id": "waThQFDPFhMU"
      },
      "execution_count": null,
      "outputs": []
    },
    {
      "cell_type": "code",
      "source": [
        "# Import necessary libraries\n",
        "import openai\n",
        "import streamlit as st\n",
        "\n",
        "# Setup OpenAI\n",
        "openai.api_key = \"Enter OpenAi api key here\"\n",
        "\n",
        "\n",
        "# Define a method to get responses from GPT-3\n",
        "def get_response(prompt):\n",
        "    try:\n",
        "        response = openai.Completion.create(\n",
        "            engine=\"text-davinci-002\",\n",
        "            prompt=prompt,\n",
        "            temperature=0.7,\n",
        "            max_tokens=1024,\n",
        "            top_p=1,\n",
        "            frequency_penalty=0,\n",
        "            presence_penalty=0,\n",
        "        )\n",
        "\n",
        "        return response.choices[0].text.strip()\n",
        "\n",
        "    except openai.error.APIError as e:\n",
        "        st.error(f\"OpenAI API Error occurred: {e}\")\n",
        "        return \"I'm sorry, something went wrong.\"\n",
        "\n",
        "    except Exception as e:\n",
        "        st.error(f\"Error occurred: {e}\")\n",
        "        return \"I'm sorry, something went wrong.\"\n",
        "\n",
        "\n",
        "# Define the Streamlit app\n",
        "def chatbot():\n",
        "    st.title(\"Welcome to the Chatbot\")\n",
        "    st.subheader(\"Please enter your message below:\")\n",
        "\n",
        "    # Create an input box to get user's text input\n",
        "    user_input = st.text_input(\"\", \"\")\n",
        "\n",
        "    if len(user_input) > 0:\n",
        "        # Format user's input for prompt\n",
        "        formatted_input = f\"User: {user_input}\\nAI:\"\n",
        "\n",
        "        # Get AI response\n",
        "        response = get_response(formatted_input)\n",
        "\n",
        "        # Display AI response\n",
        "        st.text_area(\"AI:\", value=response, height=200, max_chars=None, key=None)\n",
        "\n",
        "    else:\n",
        "        # Display initial prompt message\n",
        "        response = get_response(\"Hello! How may I assist you today?\\nAI:\")\n",
        "        st.text_area(\"AI:\", value=response, height=200, max_chars=None, key=None)\n",
        "\n",
        "\n",
        "# Run the app\n",
        "if __name__ == \"__main__\":\n",
        "    try:\n",
        "        # Make an initial call to the API to check the API connection and load the authentication credentials\n",
        "        openai.Completion.create(\n",
        "            engine=\"text-davinci-002\",\n",
        "            prompt=\"\",\n",
        "            temperature=0,\n",
        "            max_tokens=0,\n",
        "            top_p=0,\n",
        "            frequency_penalty=0,\n",
        "            presence_penalty=0,\n",
        "        )\n",
        "\n",
        "        chatbot()\n",
        "\n",
        "    except openai.error.AuthenticationError:\n",
        "        st.error(\"Please enter your OpenAI API key in the code.\")\n",
        "\n",
        "    except openai.error.APIError as e:\n",
        "        st.error(f\"OpenAI API Error occurred: {e}\")\n",
        "\n",
        "    except Exception as e:\n",
        "        st.error(f\"Error occurred: {e}\")\n",
        "\n",
        "        # Display error message\n",
        "        st.text_area(\"AI:\", value=\"I'm sorry, something went wrong.\", height=200, max_chars=None, key=None)"
      ],
      "metadata": {
        "id": "8cHv0YwoHmx6"
      },
      "execution_count": 23,
      "outputs": []
    },
    {
      "cell_type": "markdown",
      "source": [],
      "metadata": {
        "id": "GgnzrCoXHnl5"
      }
    }
  ]
}